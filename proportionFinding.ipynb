{
 "cells": [
  {
   "cell_type": "markdown",
   "id": "fc66b2d1",
   "metadata": {},
   "source": [
    "# Script to find proportions for the two analyzed portfolios"
   ]
  },
  {
   "cell_type": "code",
   "execution_count": 4,
   "id": "95ca07a0",
   "metadata": {},
   "outputs": [],
   "source": [
    "import requests"
   ]
  },
  {
   "cell_type": "code",
   "execution_count": 22,
   "id": "7bf21bb0",
   "metadata": {},
   "outputs": [],
   "source": [
    "RESULTS = {}"
   ]
  },
  {
   "cell_type": "code",
   "execution_count": 21,
   "id": "6577063b",
   "metadata": {},
   "outputs": [],
   "source": [
    "# API connection\n",
    "\n",
    "root_url = \"http://192.168.8.118:5000/\"\n",
    "base_api = \"api/optimize/\"\n",
    "\n",
    "eff_frontier_route = \"effFrontier\"\n",
    "tabu_route = \"tabu\"\n",
    "annealing_route = \"simAnnealing\""
   ]
  },
  {
   "cell_type": "code",
   "execution_count": 2,
   "id": "676a8459",
   "metadata": {},
   "outputs": [],
   "source": [
    "tickers_classic = [\"MRK\", \"INTC\", \"JNJ\", \"BA\", \"AMGN\"]\n",
    "\n",
    "tickers_quantum = [\"MRK\", \"UNH\", \"VZ\", \"BA\", \"INTC\"]"
   ]
  },
  {
   "cell_type": "markdown",
   "id": "a081ddd0",
   "metadata": {},
   "source": [
    "### Efficient Frontier"
   ]
  },
  {
   "cell_type": "code",
   "execution_count": 3,
   "id": "a22cf96d",
   "metadata": {},
   "outputs": [],
   "source": [
    "eff_params = {\n",
    "    \"tickers\": [],\n",
    "    \"years\": 2,\n",
    "    \"num\": 10_000,\n",
    "    \"rfr\": 0.01\n",
    "}"
   ]
  },
  {
   "cell_type": "code",
   "execution_count": 27,
   "id": "33ea684e",
   "metadata": {},
   "outputs": [],
   "source": [
    "url = root_url + base_api + eff_frontier_route\n",
    "\n",
    "# classic portfolio\n",
    "eff_params[\"tickers\"] = tickers_classic\n",
    "\n",
    "res_classic = requests.post(url, json=eff_params)\n",
    "\n",
    "RESULTS[\"eff_classic\"] = res_classic.json()\n",
    "\n",
    "# quantum portfolio\n",
    "eff_params[\"tickers\"] = tickers_quantum\n",
    "\n",
    "res_quantum = requests.post(url, json=eff_params)\n",
    "\n",
    "RESULTS[\"eff_quantum\"] = res_quantum.json()"
   ]
  },
  {
   "cell_type": "markdown",
   "id": "1d74dbfc",
   "metadata": {},
   "source": [
    "### Simulated Annealing"
   ]
  },
  {
   "cell_type": "code",
   "execution_count": 12,
   "id": "11dfb801",
   "metadata": {},
   "outputs": [],
   "source": [
    "sa_params = {\n",
    "    \"tickers\": [],\n",
    "    \"years\": 2,\n",
    "    \"rfr\": 0.01,\n",
    "    \"temp_0\": 100,\n",
    "    \"neighbourhood_size\": 0.1,\n",
    "    \"alpha\": 0.95,\n",
    "    \"max_iter\": 10_000\n",
    "}"
   ]
  },
  {
   "cell_type": "code",
   "execution_count": 28,
   "id": "7c48bec4",
   "metadata": {},
   "outputs": [],
   "source": [
    "url = root_url + base_api + annealing_route\n",
    "\n",
    "# classic portfolio\n",
    "sa_params[\"tickers\"] = tickers_classic\n",
    "\n",
    "res_classic = requests.post(url, json=sa_params)\n",
    "\n",
    "RESULTS[\"annealing_classic\"] = res_classic.json()\n",
    "\n",
    "# quantum portfolio\n",
    "sa_params[\"tickers\"] = tickers_quantum\n",
    "\n",
    "res_quantum = requests.post(url, json=sa_params)\n",
    "\n",
    "RESULTS[\"annealing_quantum\"] = res_quantum.json()"
   ]
  },
  {
   "cell_type": "markdown",
   "id": "a991e25e",
   "metadata": {},
   "source": [
    "### Tabu Search"
   ]
  },
  {
   "cell_type": "code",
   "execution_count": 19,
   "id": "422cd0c1",
   "metadata": {},
   "outputs": [],
   "source": [
    "tabu_params = {\n",
    "    \"tickers\": [],\n",
    "    \"years\": 2,\n",
    "    \"rfr\": 0.01,\n",
    "    \"tenure\": 100,\n",
    "    \"max_iter\": 10_000,\n",
    "    \"neighbourhood_size\": 0.1,\n",
    "    \"no_neighbours\": 10\n",
    "}"
   ]
  },
  {
   "cell_type": "code",
   "execution_count": 25,
   "id": "338e5082",
   "metadata": {},
   "outputs": [],
   "source": [
    "url = root_url + base_api + tabu_route\n",
    "\n",
    "# classic portfolio\n",
    "tabu_params[\"tickers\"] = tickers_classic\n",
    "\n",
    "res_classic = requests.post(url, json=tabu_params)\n",
    "\n",
    "RESULTS[\"tabu_classic\"] = res_classic.json()\n",
    "\n",
    "# quantum portfolio\n",
    "tabu_params[\"tickers\"] = tickers_quantum\n",
    "\n",
    "res_quantum = requests.post(url, json=tabu_params)\n",
    "\n",
    "RESULTS[\"tabu_quantum\"] = res_quantum.json()"
   ]
  },
  {
   "cell_type": "markdown",
   "id": "c69f22d0",
   "metadata": {},
   "source": [
    "### Save the results"
   ]
  },
  {
   "cell_type": "code",
   "execution_count": 33,
   "id": "f927c6ba",
   "metadata": {},
   "outputs": [],
   "source": [
    "import json\n",
    "from datetime import date"
   ]
  },
  {
   "cell_type": "code",
   "execution_count": 31,
   "id": "c73745cf",
   "metadata": {},
   "outputs": [],
   "source": [
    "RESULTS[\"current_date\"] = date.today().strftime(\"%d-%m-%Y\")"
   ]
  },
  {
   "cell_type": "code",
   "execution_count": 37,
   "id": "b3e6cf39",
   "metadata": {},
   "outputs": [],
   "source": [
    "with open(\"optimization_results.json\", \"w\") as f:\n",
    "    json.dump(RESULTS, f, indent=4)"
   ]
  }
 ],
 "metadata": {
  "kernelspec": {
   "display_name": "Python 3",
   "language": "python",
   "name": "python3"
  },
  "language_info": {
   "codemirror_mode": {
    "name": "ipython",
    "version": 3
   },
   "file_extension": ".py",
   "mimetype": "text/x-python",
   "name": "python",
   "nbconvert_exporter": "python",
   "pygments_lexer": "ipython3",
   "version": "3.9.6"
  },
  "toc": {
   "base_numbering": 1,
   "nav_menu": {},
   "number_sections": true,
   "sideBar": true,
   "skip_h1_title": false,
   "title_cell": "Table of Contents",
   "title_sidebar": "Contents",
   "toc_cell": false,
   "toc_position": {},
   "toc_section_display": true,
   "toc_window_display": false
  }
 },
 "nbformat": 4,
 "nbformat_minor": 5
}
